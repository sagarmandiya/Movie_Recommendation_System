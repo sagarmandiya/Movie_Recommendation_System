{
 "cells": [
  {
   "cell_type": "code",
   "execution_count": 1,
   "metadata": {},
   "outputs": [],
   "source": [
    "import os\n",
    "import pandas as pd\n",
    "import numpy as np\n",
    "from sklearn.metrics.pairwise import cosine_similarity\n",
    "from sklearn.feature_extraction.text import TfidfVectorizer"
   ]
  },
  {
   "cell_type": "code",
   "execution_count": 2,
   "metadata": {},
   "outputs": [],
   "source": [
    "# Load dataset\n",
    "dataset_path = \"../Datasets/MovieLens_20M_Dataset/\"\n",
    "\n",
    "path = os.path.join(dataset_path, 'movie.csv')\n",
    "movies = pd.read_csv(path)\n",
    "\n",
    "path = os.path.join(dataset_path, 'rating.csv')\n",
    "rating = pd.read_csv(path)\n",
    "\n",
    "path = os.path.join(dataset_path, 'tag.csv')\n",
    "tag = pd.read_csv(path)\n",
    "\n",
    "path = os.path.join(dataset_path, 'link.csv')\n",
    "link = pd.read_csv(path)\n",
    "\n",
    "path = os.path.join(dataset_path, 'genome_tags.csv')\n",
    "genome_tags = pd.read_csv(path)\n",
    "\n",
    "path = os.path.join(dataset_path, 'genome_scores.csv')\n",
    "genome_scores = pd.read_csv(path)"
   ]
  },
  {
   "cell_type": "code",
   "execution_count": 5,
   "metadata": {},
   "outputs": [
    {
     "name": "stdout",
     "output_type": "stream",
     "text": [
      "genome_tags shape is (1128, 2)\n",
      "genome_scores shape is (11709768, 3)\n",
      "movies shape is (27278, 3)\n",
      "rating shape is (20000263, 4)\n",
      "tag shape is (465564, 4)\n"
     ]
    }
   ],
   "source": [
    "# Dataset shape\n",
    "print(\"genome_tags shape is {}\".format(genome_tags.shape))\n",
    "print(\"genome_scores shape is {}\".format(genome_scores.shape))\n",
    "print(\"movies shape is {}\".format(movies.shape))\n",
    "print(\"rating shape is {}\".format(rating.shape))\n",
    "print(\"tag shape is {}\".format(tag.shape))"
   ]
  },
  {
   "cell_type": "code",
   "execution_count": 6,
   "metadata": {},
   "outputs": [
    {
     "name": "stdout",
     "output_type": "stream",
     "text": [
      "Index(['tagId', 'tag'], dtype='object')\n",
      "Index(['movieId', 'tagId', 'relevance'], dtype='object')\n",
      "Index(['movieId', 'title', 'genres'], dtype='object')\n",
      "Index(['userId', 'movieId', 'rating', 'timestamp'], dtype='object')\n",
      "Index(['userId', 'movieId', 'tag', 'timestamp'], dtype='object')\n"
     ]
    },
    {
     "data": {
      "text/html": [
       "<div>\n",
       "<style scoped>\n",
       "    .dataframe tbody tr th:only-of-type {\n",
       "        vertical-align: middle;\n",
       "    }\n",
       "\n",
       "    .dataframe tbody tr th {\n",
       "        vertical-align: top;\n",
       "    }\n",
       "\n",
       "    .dataframe thead th {\n",
       "        text-align: right;\n",
       "    }\n",
       "</style>\n",
       "<table border=\"1\" class=\"dataframe\">\n",
       "  <thead>\n",
       "    <tr style=\"text-align: right;\">\n",
       "      <th></th>\n",
       "      <th>movieId</th>\n",
       "      <th>tagId</th>\n",
       "      <th>relevance</th>\n",
       "    </tr>\n",
       "  </thead>\n",
       "  <tbody>\n",
       "    <tr>\n",
       "      <th>0</th>\n",
       "      <td>1</td>\n",
       "      <td>1</td>\n",
       "      <td>0.02500</td>\n",
       "    </tr>\n",
       "    <tr>\n",
       "      <th>1</th>\n",
       "      <td>1</td>\n",
       "      <td>2</td>\n",
       "      <td>0.02500</td>\n",
       "    </tr>\n",
       "    <tr>\n",
       "      <th>2</th>\n",
       "      <td>1</td>\n",
       "      <td>3</td>\n",
       "      <td>0.05775</td>\n",
       "    </tr>\n",
       "    <tr>\n",
       "      <th>3</th>\n",
       "      <td>1</td>\n",
       "      <td>4</td>\n",
       "      <td>0.09675</td>\n",
       "    </tr>\n",
       "    <tr>\n",
       "      <th>4</th>\n",
       "      <td>1</td>\n",
       "      <td>5</td>\n",
       "      <td>0.14675</td>\n",
       "    </tr>\n",
       "  </tbody>\n",
       "</table>\n",
       "</div>"
      ],
      "text/plain": [
       "   movieId  tagId  relevance\n",
       "0        1      1    0.02500\n",
       "1        1      2    0.02500\n",
       "2        1      3    0.05775\n",
       "3        1      4    0.09675\n",
       "4        1      5    0.14675"
      ]
     },
     "execution_count": 6,
     "metadata": {},
     "output_type": "execute_result"
    }
   ],
   "source": [
    "print(genome_tags.columns)\n",
    "print(genome_scores.columns)\n",
    "print(movies.columns)\n",
    "print(rating.columns)\n",
    "print(tag.columns)\n",
    "genome_scores.head()"
   ]
  },
  {
   "cell_type": "code",
   "execution_count": 7,
   "metadata": {},
   "outputs": [],
   "source": [
    "# genome_scores dataset has relevance feature which says that how much a tag is relevant to the movie and\n",
    "# it's value range from 0 to 1, we'll consider only the value which has more than 0.5 relevance. So this gives better \n",
    "# predicrion. And We'll merge the tag with genome_scores dataset.\n",
    "genome_scores = genome_scores[genome_scores['relevance']> 0.7].merge(genome_tags,on='tagId',how='left') \n",
    "\n",
    "# concatenating all the tag that belongs to a movie and forming a tag collection for each movie\n",
    "genome_scores = genome_scores.groupby('movieId')['tag'].apply(' '.join).reset_index()\n"
   ]
  },
  {
   "cell_type": "code",
   "execution_count": 11,
   "metadata": {},
   "outputs": [
    {
     "data": {
      "text/html": [
       "<div>\n",
       "<style scoped>\n",
       "    .dataframe tbody tr th:only-of-type {\n",
       "        vertical-align: middle;\n",
       "    }\n",
       "\n",
       "    .dataframe tbody tr th {\n",
       "        vertical-align: top;\n",
       "    }\n",
       "\n",
       "    .dataframe thead th {\n",
       "        text-align: right;\n",
       "    }\n",
       "</style>\n",
       "<table border=\"1\" class=\"dataframe\">\n",
       "  <thead>\n",
       "    <tr style=\"text-align: right;\">\n",
       "      <th></th>\n",
       "      <th>movieId</th>\n",
       "      <th>tag</th>\n",
       "    </tr>\n",
       "  </thead>\n",
       "  <tbody>\n",
       "    <tr>\n",
       "      <th>0</th>\n",
       "      <td>1</td>\n",
       "      <td>adventure animated animation cartoon cgi child...</td>\n",
       "    </tr>\n",
       "    <tr>\n",
       "      <th>1</th>\n",
       "      <td>2</td>\n",
       "      <td>adventure animals big budget childhood childre...</td>\n",
       "    </tr>\n",
       "    <tr>\n",
       "      <th>2</th>\n",
       "      <td>3</td>\n",
       "      <td>comedy good sequel original sequel sequels</td>\n",
       "    </tr>\n",
       "    <tr>\n",
       "      <th>3</th>\n",
       "      <td>4</td>\n",
       "      <td>chick flick girlie movie romantic unlikely fri...</td>\n",
       "    </tr>\n",
       "    <tr>\n",
       "      <th>4</th>\n",
       "      <td>5</td>\n",
       "      <td>comedy destiny family father daughter relation...</td>\n",
       "    </tr>\n",
       "  </tbody>\n",
       "</table>\n",
       "</div>"
      ],
      "text/plain": [
       "   movieId                                                tag\n",
       "0        1  adventure animated animation cartoon cgi child...\n",
       "1        2  adventure animals big budget childhood childre...\n",
       "2        3         comedy good sequel original sequel sequels\n",
       "3        4  chick flick girlie movie romantic unlikely fri...\n",
       "4        5  comedy destiny family father daughter relation..."
      ]
     },
     "execution_count": 11,
     "metadata": {},
     "output_type": "execute_result"
    }
   ],
   "source": [
    "\n",
    "final_dataset = pd.merge(movies,genome_scores,on='movieId',how='left')\n",
    "genome_scores.head()"
   ]
  },
  {
   "cell_type": "code",
   "execution_count": 12,
   "metadata": {},
   "outputs": [
    {
     "data": {
      "text/plain": [
       "0    Adventure|Animation|Children|Comedy|Fantasy\n",
       "1                     Adventure|Children|Fantasy\n",
       "2                                 Comedy|Romance\n",
       "3                           Comedy|Drama|Romance\n",
       "4                                         Comedy\n",
       "Name: genres, dtype: object"
      ]
     },
     "execution_count": 12,
     "metadata": {},
     "output_type": "execute_result"
    }
   ],
   "source": [
    "# renaming tag as keywords\n",
    "tag = tag.rename(columns = {\"tag\":\"keywords\"})\n",
    "tag['keywords'].fillna('',inplace=True)\n",
    "tag = tag.groupby('movieId')['keywords'].apply(' '.join).reset_index()\n",
    "\n",
    "final_dataset = pd.merge(final_dataset,tag,on='movieId',how='left')\n",
    "final_dataset['genres'].head()"
   ]
  },
  {
   "cell_type": "code",
   "execution_count": 13,
   "metadata": {},
   "outputs": [],
   "source": [
    "final_dataset['keywords'] = final_dataset['keywords'] + \" \" +final_dataset['tag'] +  \" \" + \\\n",
    "    final_dataset['genres'].str.replace(\"|\",\" \")\n",
    "final_dataset['keywords'].fillna(\"\",inplace=True)"
   ]
  },
  {
   "cell_type": "code",
   "execution_count": 14,
   "metadata": {},
   "outputs": [],
   "source": [
    "# Both tag and genres values has added to keywords so we drop this \n",
    "final_dataset.drop(['tag','genres'],inplace=True,axis=1)"
   ]
  },
  {
   "cell_type": "code",
   "execution_count": 15,
   "metadata": {},
   "outputs": [],
   "source": [
    "c_vect = TfidfVectorizer()\n",
    "X = c_vect.fit_transform(final_dataset['keywords'])"
   ]
  },
  {
   "cell_type": "code",
   "execution_count": 16,
   "metadata": {},
   "outputs": [],
   "source": [
    "# There are other similiary distance metric available which are euclidean distance,manhattan distance, \n",
    "# Pearson coefficient etc. But for sparse matrix cosine similarity works better\n",
    "cosine_sim = cosine_similarity(X)"
   ]
  },
  {
   "cell_type": "code",
   "execution_count": 17,
   "metadata": {},
   "outputs": [],
   "source": [
    "def get_movie_recommendation(movie_name):\n",
    "    idx = final_dataset[final_dataset['title'].str.contains(movie_name)].index\n",
    "    if len(idx):\n",
    "        movie_indices = sorted(list(enumerate(cosine_sim[idx[0]])), key=lambda x: x[1], reverse=True)[1:11]\n",
    "        movie_indices = [i[0] for i in movie_indices]\n",
    "        return movie_indices\n",
    "    else : \n",
    "        return []"
   ]
  },
  {
   "cell_type": "code",
   "execution_count": 18,
   "metadata": {},
   "outputs": [
    {
     "data": {
      "text/html": [
       "<div>\n",
       "<style scoped>\n",
       "    .dataframe tbody tr th:only-of-type {\n",
       "        vertical-align: middle;\n",
       "    }\n",
       "\n",
       "    .dataframe tbody tr th {\n",
       "        vertical-align: top;\n",
       "    }\n",
       "\n",
       "    .dataframe thead th {\n",
       "        text-align: right;\n",
       "    }\n",
       "</style>\n",
       "<table border=\"1\" class=\"dataframe\">\n",
       "  <thead>\n",
       "    <tr style=\"text-align: right;\">\n",
       "      <th></th>\n",
       "      <th>title</th>\n",
       "      <th>genres</th>\n",
       "    </tr>\n",
       "    <tr>\n",
       "      <th>movieId</th>\n",
       "      <th></th>\n",
       "      <th></th>\n",
       "    </tr>\n",
       "  </thead>\n",
       "  <tbody>\n",
       "    <tr>\n",
       "      <th>33794</th>\n",
       "      <td>Batman Begins (2005)</td>\n",
       "      <td>Action|Crime|IMAX</td>\n",
       "    </tr>\n",
       "    <tr>\n",
       "      <th>91529</th>\n",
       "      <td>Dark Knight Rises, The (2012)</td>\n",
       "      <td>Action|Adventure|Crime|IMAX</td>\n",
       "    </tr>\n",
       "    <tr>\n",
       "      <th>42015</th>\n",
       "      <td>Casanova (2005)</td>\n",
       "      <td>Action|Adventure|Comedy|Drama|Romance</td>\n",
       "    </tr>\n",
       "    <tr>\n",
       "      <th>4299</th>\n",
       "      <td>Knight's Tale, A (2001)</td>\n",
       "      <td>Action|Comedy|Romance</td>\n",
       "    </tr>\n",
       "    <tr>\n",
       "      <th>5611</th>\n",
       "      <td>Four Feathers, The (2002)</td>\n",
       "      <td>Adventure|War</td>\n",
       "    </tr>\n",
       "    <tr>\n",
       "      <th>27073</th>\n",
       "      <td>Two Hands (1999)</td>\n",
       "      <td>Comedy|Crime|Thriller</td>\n",
       "    </tr>\n",
       "    <tr>\n",
       "      <th>2572</th>\n",
       "      <td>10 Things I Hate About You (1999)</td>\n",
       "      <td>Comedy|Romance</td>\n",
       "    </tr>\n",
       "    <tr>\n",
       "      <th>3213</th>\n",
       "      <td>Batman: Mask of the Phantasm (1993)</td>\n",
       "      <td>Animation|Children</td>\n",
       "    </tr>\n",
       "    <tr>\n",
       "      <th>39183</th>\n",
       "      <td>Brokeback Mountain (2005)</td>\n",
       "      <td>Drama|Romance</td>\n",
       "    </tr>\n",
       "    <tr>\n",
       "      <th>90603</th>\n",
       "      <td>Batman: Year One (2011)</td>\n",
       "      <td>Action|Animation|Crime</td>\n",
       "    </tr>\n",
       "  </tbody>\n",
       "</table>\n",
       "</div>"
      ],
      "text/plain": [
       "                                       title  \\\n",
       "movieId                                        \n",
       "33794                   Batman Begins (2005)   \n",
       "91529          Dark Knight Rises, The (2012)   \n",
       "42015                        Casanova (2005)   \n",
       "4299                 Knight's Tale, A (2001)   \n",
       "5611               Four Feathers, The (2002)   \n",
       "27073                       Two Hands (1999)   \n",
       "2572       10 Things I Hate About You (1999)   \n",
       "3213     Batman: Mask of the Phantasm (1993)   \n",
       "39183              Brokeback Mountain (2005)   \n",
       "90603                Batman: Year One (2011)   \n",
       "\n",
       "                                        genres  \n",
       "movieId                                         \n",
       "33794                        Action|Crime|IMAX  \n",
       "91529              Action|Adventure|Crime|IMAX  \n",
       "42015    Action|Adventure|Comedy|Drama|Romance  \n",
       "4299                     Action|Comedy|Romance  \n",
       "5611                             Adventure|War  \n",
       "27073                    Comedy|Crime|Thriller  \n",
       "2572                            Comedy|Romance  \n",
       "3213                        Animation|Children  \n",
       "39183                            Drama|Romance  \n",
       "90603                   Action|Animation|Crime  "
      ]
     },
     "execution_count": 18,
     "metadata": {},
     "output_type": "execute_result"
    }
   ],
   "source": [
    "title = \"Dark Knight\"\n",
    "recommended_movie_list = get_movie_recommendation(title)\n",
    "movies.iloc[recommended_movie_list].set_index('movieId')"
   ]
  },
  {
   "cell_type": "code",
   "execution_count": null,
   "metadata": {},
   "outputs": [],
   "source": []
  }
 ],
 "metadata": {
  "kernelspec": {
   "display_name": "DeepLearning",
   "language": "python",
   "name": "deeplearning"
  },
  "language_info": {
   "codemirror_mode": {
    "name": "ipython",
    "version": 3
   },
   "file_extension": ".py",
   "mimetype": "text/x-python",
   "name": "python",
   "nbconvert_exporter": "python",
   "pygments_lexer": "ipython3",
   "version": "3.7.7"
  }
 },
 "nbformat": 4,
 "nbformat_minor": 4
}
